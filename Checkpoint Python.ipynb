{
 "cells": [
  {
   "cell_type": "markdown",
   "id": "9eba1d02",
   "metadata": {},
   "source": [
    "##  Question 1"
   ]
  },
  {
   "cell_type": "code",
   "execution_count": 4,
   "id": "c0945b5e",
   "metadata": {},
   "outputs": [
    {
     "name": "stdout",
     "output_type": "stream",
     "text": [
      "2003\n",
      "2017\n",
      "2024\n",
      "2031\n",
      "2038\n",
      "2052\n",
      "2059\n",
      "2066\n",
      "2073\n",
      "2087\n",
      "2094\n",
      "2101\n",
      "2108\n",
      "2122\n",
      "2129\n",
      "2136\n",
      "2143\n",
      "2157\n",
      "2164\n",
      "2171\n",
      "2178\n",
      "2192\n",
      "2199\n",
      "2206\n",
      "2213\n",
      "2227\n",
      "2234\n",
      "2241\n",
      "2248\n",
      "2262\n",
      "2269\n",
      "2276\n",
      "2283\n",
      "2297\n",
      "2304\n",
      "2311\n",
      "2318\n",
      "2332\n",
      "2339\n",
      "2346\n",
      "2353\n",
      "2367\n",
      "2374\n",
      "2381\n",
      "2388\n",
      "2402\n",
      "2409\n",
      "2416\n",
      "2423\n",
      "2437\n",
      "2444\n",
      "2451\n",
      "2458\n",
      "2472\n",
      "2479\n",
      "2486\n",
      "2493\n",
      "2507\n",
      "2514\n",
      "2521\n",
      "2528\n",
      "2542\n",
      "2549\n",
      "2556\n",
      "2563\n",
      "2577\n",
      "2584\n",
      "2591\n",
      "2598\n",
      "2612\n",
      "2619\n",
      "2626\n",
      "2633\n",
      "2647\n",
      "2654\n",
      "2661\n",
      "2668\n",
      "2682\n",
      "2689\n",
      "2696\n",
      "2703\n",
      "2717\n",
      "2724\n",
      "2731\n",
      "2738\n",
      "2752\n",
      "2759\n",
      "2766\n",
      "2773\n",
      "2787\n",
      "2794\n",
      "2801\n",
      "2808\n",
      "2822\n",
      "2829\n",
      "2836\n",
      "2843\n",
      "2857\n",
      "2864\n",
      "2871\n",
      "2878\n",
      "2892\n",
      "2899\n",
      "2906\n",
      "2913\n",
      "2927\n",
      "2934\n",
      "2941\n",
      "2948\n",
      "2962\n",
      "2969\n",
      "2976\n",
      "2983\n",
      "2997\n",
      "3004\n",
      "3011\n",
      "3018\n",
      "3032\n",
      "3039\n",
      "3046\n",
      "3053\n",
      "3067\n",
      "3074\n",
      "3081\n",
      "3088\n",
      "3102\n",
      "3109\n",
      "3116\n",
      "3123\n",
      "3137\n",
      "3144\n",
      "3151\n",
      "3158\n",
      "3172\n",
      "3179\n",
      "3186\n",
      "3193\n"
     ]
    }
   ],
   "source": [
    "for i in range(2000,3201):\n",
    "     if(i%7==1 and i%5!=0):\n",
    "         print(i)\n",
    "     "
   ]
  },
  {
   "cell_type": "markdown",
   "id": "15de0fbf",
   "metadata": {},
   "source": [
    "# #Question 2\n"
   ]
  },
  {
   "cell_type": "code",
   "execution_count": 16,
   "id": "02ddd3d0",
   "metadata": {},
   "outputs": [],
   "source": [
    "def factorial(n):\n",
    "    F=1\n",
    "    if (n==0):\n",
    "        return 1\n",
    "    else :\n",
    "        for i in range (1,n+1):\n",
    "            F=F*i\n",
    "    return F\n",
    "        "
   ]
  },
  {
   "cell_type": "code",
   "execution_count": 18,
   "id": "99a6be2a",
   "metadata": {},
   "outputs": [
    {
     "data": {
      "text/plain": [
       "120"
      ]
     },
     "execution_count": 18,
     "metadata": {},
     "output_type": "execute_result"
    }
   ],
   "source": [
    "factorial(5)"
   ]
  },
  {
   "cell_type": "markdown",
   "id": "9fe663f3",
   "metadata": {},
   "source": [
    "# #Question3"
   ]
  },
  {
   "cell_type": "code",
   "execution_count": 21,
   "id": "e062302f",
   "metadata": {},
   "outputs": [],
   "source": [
    "def diction(n):\n",
    "    d=dict()\n",
    "    for i in range(1,n+1):\n",
    "        d[i]=i*i\n",
    "    return d    "
   ]
  },
  {
   "cell_type": "code",
   "execution_count": 22,
   "id": "1e27057c",
   "metadata": {},
   "outputs": [
    {
     "data": {
      "text/plain": [
       "{1: 1, 2: 4, 3: 9, 4: 16, 5: 25, 6: 36, 7: 49, 8: 64}"
      ]
     },
     "execution_count": 22,
     "metadata": {},
     "output_type": "execute_result"
    }
   ],
   "source": [
    "diction(8)"
   ]
  },
  {
   "cell_type": "markdown",
   "id": "594a5bae",
   "metadata": {},
   "source": [
    "## Question 4\n"
   ]
  },
  {
   "cell_type": "code",
   "execution_count": 8,
   "id": "d27b7af1",
   "metadata": {},
   "outputs": [],
   "source": [
    "def missing_char(Ch,n):\n",
    "    Ph = Ch.replace(Ch[n], \"\")\n",
    "    return Ph\n",
    "    "
   ]
  },
  {
   "cell_type": "code",
   "execution_count": 9,
   "id": "18e417f8",
   "metadata": {},
   "outputs": [
    {
     "data": {
      "text/plain": [
       "'itten'"
      ]
     },
     "execution_count": 9,
     "metadata": {},
     "output_type": "execute_result"
    }
   ],
   "source": [
    "missing_char('kitten',0)\n"
   ]
  },
  {
   "cell_type": "markdown",
   "id": "96ab953e",
   "metadata": {},
   "source": [
    "# Question 5"
   ]
  },
  {
   "cell_type": "code",
   "execution_count": 11,
   "id": "82fa90a3",
   "metadata": {},
   "outputs": [
    {
     "name": "stdout",
     "output_type": "stream",
     "text": [
      "Original array elements:\n",
      "[[0 1]\n",
      " [2 3]\n",
      " [4 5]]\n",
      "Array to list:\n",
      "[[0, 1], [2, 3], [4, 5]]\n"
     ]
    }
   ],
   "source": [
    "import numpy as np\n",
    "x= np.arange(6).reshape(3, 2)\n",
    "print(\"Original array elements:\")\n",
    "print(x)\n",
    "print(\"Array to list:\")\n",
    "print(x.tolist())"
   ]
  },
  {
   "cell_type": "markdown",
   "id": "2f743292",
   "metadata": {},
   "source": [
    "# #Question 6\n"
   ]
  },
  {
   "cell_type": "code",
   "execution_count": 18,
   "id": "854a6428",
   "metadata": {},
   "outputs": [
    {
     "name": "stdout",
     "output_type": "stream",
     "text": [
      "Original array1:\n",
      "[[0 1 2]]\n",
      "Original array2:\n",
      "[2 1 0]\n",
      "Covariance matrix of the said arrays:\n",
      "[[ 1. -1.]\n",
      " [-1.  1.]]\n"
     ]
    }
   ],
   "source": [
    "import numpy as np\n",
    "x=np.arange(3).reshape(1,3)\n",
    "print(\"Original array1:\")\n",
    "print(x)\n",
    "y=np.array([2,1,0])\n",
    "print(\"Original array2:\")\n",
    "print(y)\n",
    "print(\"Covariance matrix of the said arrays:\")\n",
    "print(np.cov(x,y))"
   ]
  },
  {
   "cell_type": "markdown",
   "id": "c259f416",
   "metadata": {},
   "source": [
    "# Question 7 "
   ]
  },
  {
   "cell_type": "code",
   "execution_count": 19,
   "id": "e666ce27",
   "metadata": {},
   "outputs": [
    {
     "name": "stdout",
     "output_type": "stream",
     "text": [
      "Provide D: 100,150,180 \n",
      "[18, 22, 24]\n"
     ]
    }
   ],
   "source": [
    "import math\n",
    "\n",
    "numbers = input(\"Provide D: \")\n",
    "numbers = numbers.split(',')\n",
    "\n",
    "result_list = []\n",
    "for D in numbers:\n",
    "    Q = round(math.sqrt(2 * 50 * int(D) / 30))\n",
    "    result_list.append(Q)\n",
    "\n",
    "print(result_list)"
   ]
  }
 ],
 "metadata": {
  "kernelspec": {
   "display_name": "Python 3 (ipykernel)",
   "language": "python",
   "name": "python3"
  },
  "language_info": {
   "codemirror_mode": {
    "name": "ipython",
    "version": 3
   },
   "file_extension": ".py",
   "mimetype": "text/x-python",
   "name": "python",
   "nbconvert_exporter": "python",
   "pygments_lexer": "ipython3",
   "version": "3.9.7"
  }
 },
 "nbformat": 4,
 "nbformat_minor": 5
}
